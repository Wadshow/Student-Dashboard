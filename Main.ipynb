{
 "cells": [
  {
   "cell_type": "code",
   "execution_count": 1,
   "id": "bcc984de",
   "metadata": {},
   "outputs": [],
   "source": [
    "import numpy as np\n",
    "import pandas as pd\n",
    "import seaborn as sns\n",
    "import matplotlib.pyplot as plt"
   ]
  },
  {
   "cell_type": "code",
   "execution_count": 2,
   "id": "185ef2a1",
   "metadata": {},
   "outputs": [],
   "source": [
    "df = pd.read_csv('Main.csv')"
   ]
  },
  {
   "cell_type": "code",
   "execution_count": 3,
   "id": "5d4f3afa",
   "metadata": {},
   "outputs": [
    {
     "data": {
      "text/html": [
       "<div>\n",
       "<style scoped>\n",
       "    .dataframe tbody tr th:only-of-type {\n",
       "        vertical-align: middle;\n",
       "    }\n",
       "\n",
       "    .dataframe tbody tr th {\n",
       "        vertical-align: top;\n",
       "    }\n",
       "\n",
       "    .dataframe thead th {\n",
       "        text-align: right;\n",
       "    }\n",
       "</style>\n",
       "<table border=\"1\" class=\"dataframe\">\n",
       "  <thead>\n",
       "    <tr style=\"text-align: right;\">\n",
       "      <th></th>\n",
       "      <th>rank</th>\n",
       "      <th>percentile</th>\n",
       "      <th>branch</th>\n",
       "      <th>gender</th>\n",
       "      <th>category</th>\n",
       "      <th>fulfillment</th>\n",
       "      <th>seat_type</th>\n",
       "      <th>primary_seat_type</th>\n",
       "      <th>secondary_seat_type</th>\n",
       "      <th>score_type</th>\n",
       "      <th>college_name</th>\n",
       "      <th>enrollment_no</th>\n",
       "      <th>branch_code</th>\n",
       "    </tr>\n",
       "  </thead>\n",
       "  <tbody>\n",
       "    <tr>\n",
       "      <th>0</th>\n",
       "      <td>18388</td>\n",
       "      <td>90.121473</td>\n",
       "      <td>Civil Engineering</td>\n",
       "      <td>M</td>\n",
       "      <td>NT 2 (NT-C)</td>\n",
       "      <td>^</td>\n",
       "      <td>GOPENS</td>\n",
       "      <td>State Level Seats</td>\n",
       "      <td>State Level Seats</td>\n",
       "      <td>MHT-CET</td>\n",
       "      <td>Government College of Engineering, Amravati</td>\n",
       "      <td>EN22169138</td>\n",
       "      <td>100219110</td>\n",
       "    </tr>\n",
       "    <tr>\n",
       "      <th>1</th>\n",
       "      <td>18898</td>\n",
       "      <td>89.889223</td>\n",
       "      <td>Civil Engineering</td>\n",
       "      <td>F</td>\n",
       "      <td>SC</td>\n",
       "      <td>^</td>\n",
       "      <td>LOPENS</td>\n",
       "      <td>State Level Seats</td>\n",
       "      <td>State Level Seats</td>\n",
       "      <td>MHT-CET</td>\n",
       "      <td>Government College of Engineering, Amravati</td>\n",
       "      <td>EN22182921</td>\n",
       "      <td>100219110</td>\n",
       "    </tr>\n",
       "    <tr>\n",
       "      <th>2</th>\n",
       "      <td>19374</td>\n",
       "      <td>89.540152</td>\n",
       "      <td>Civil Engineering</td>\n",
       "      <td>M</td>\n",
       "      <td>OBC</td>\n",
       "      <td>^</td>\n",
       "      <td>GOPENS</td>\n",
       "      <td>State Level Seats</td>\n",
       "      <td>State Level Seats</td>\n",
       "      <td>MHT-CET</td>\n",
       "      <td>Government College of Engineering, Amravati</td>\n",
       "      <td>EN22164339</td>\n",
       "      <td>100219110</td>\n",
       "    </tr>\n",
       "    <tr>\n",
       "      <th>3</th>\n",
       "      <td>21857</td>\n",
       "      <td>88.241971</td>\n",
       "      <td>Civil Engineering</td>\n",
       "      <td>M</td>\n",
       "      <td>OBC</td>\n",
       "      <td>^</td>\n",
       "      <td>GOPENS</td>\n",
       "      <td>State Level Seats</td>\n",
       "      <td>State Level Seats</td>\n",
       "      <td>MHT-CET</td>\n",
       "      <td>Government College of Engineering, Amravati</td>\n",
       "      <td>EN22169336</td>\n",
       "      <td>100219110</td>\n",
       "    </tr>\n",
       "    <tr>\n",
       "      <th>4</th>\n",
       "      <td>22128</td>\n",
       "      <td>88.091617</td>\n",
       "      <td>Civil Engineering</td>\n",
       "      <td>M</td>\n",
       "      <td>DT/VJ</td>\n",
       "      <td>~</td>\n",
       "      <td>GOPENS</td>\n",
       "      <td>State Level Seats</td>\n",
       "      <td>State Level Seats</td>\n",
       "      <td>MHT-CET</td>\n",
       "      <td>Government College of Engineering, Amravati</td>\n",
       "      <td>EN22135944</td>\n",
       "      <td>100219110</td>\n",
       "    </tr>\n",
       "  </tbody>\n",
       "</table>\n",
       "</div>"
      ],
      "text/plain": [
       "    rank  percentile             branch gender     category fulfillment  \\\n",
       "0  18388   90.121473  Civil Engineering      M  NT 2 (NT-C)           ^   \n",
       "1  18898   89.889223  Civil Engineering      F           SC           ^   \n",
       "2  19374   89.540152  Civil Engineering      M          OBC           ^   \n",
       "3  21857   88.241971  Civil Engineering      M          OBC           ^   \n",
       "4  22128   88.091617  Civil Engineering      M        DT/VJ           ~   \n",
       "\n",
       "  seat_type  primary_seat_type secondary_seat_type score_type  \\\n",
       "0    GOPENS  State Level Seats   State Level Seats    MHT-CET   \n",
       "1    LOPENS  State Level Seats   State Level Seats    MHT-CET   \n",
       "2    GOPENS  State Level Seats   State Level Seats    MHT-CET   \n",
       "3    GOPENS  State Level Seats   State Level Seats    MHT-CET   \n",
       "4    GOPENS  State Level Seats   State Level Seats    MHT-CET   \n",
       "\n",
       "                                  college_name enrollment_no branch_code  \n",
       "0  Government College of Engineering, Amravati    EN22169138   100219110  \n",
       "1  Government College of Engineering, Amravati    EN22182921   100219110  \n",
       "2  Government College of Engineering, Amravati    EN22164339   100219110  \n",
       "3  Government College of Engineering, Amravati    EN22169336   100219110  \n",
       "4  Government College of Engineering, Amravati    EN22135944   100219110  "
      ]
     },
     "execution_count": 3,
     "metadata": {},
     "output_type": "execute_result"
    }
   ],
   "source": [
    "df.head()"
   ]
  },
  {
   "cell_type": "code",
   "execution_count": 4,
   "id": "89f2006b",
   "metadata": {},
   "outputs": [
    {
     "data": {
      "text/html": [
       "<div>\n",
       "<style scoped>\n",
       "    .dataframe tbody tr th:only-of-type {\n",
       "        vertical-align: middle;\n",
       "    }\n",
       "\n",
       "    .dataframe tbody tr th {\n",
       "        vertical-align: top;\n",
       "    }\n",
       "\n",
       "    .dataframe thead th {\n",
       "        text-align: right;\n",
       "    }\n",
       "</style>\n",
       "<table border=\"1\" class=\"dataframe\">\n",
       "  <thead>\n",
       "    <tr style=\"text-align: right;\">\n",
       "      <th></th>\n",
       "      <th>rank</th>\n",
       "      <th>percentile</th>\n",
       "      <th>branch</th>\n",
       "      <th>gender</th>\n",
       "      <th>category</th>\n",
       "      <th>fulfillment</th>\n",
       "      <th>seat_type</th>\n",
       "      <th>primary_seat_type</th>\n",
       "      <th>secondary_seat_type</th>\n",
       "      <th>score_type</th>\n",
       "      <th>college_name</th>\n",
       "      <th>enrollment_no</th>\n",
       "      <th>branch_code</th>\n",
       "    </tr>\n",
       "  </thead>\n",
       "  <tbody>\n",
       "    <tr>\n",
       "      <th>30794</th>\n",
       "      <td>24822</td>\n",
       "      <td>86.582302</td>\n",
       "      <td>Computer Engineering</td>\n",
       "      <td>M</td>\n",
       "      <td>OBC</td>\n",
       "      <td>^</td>\n",
       "      <td>TFWS</td>\n",
       "      <td>State Level Seats</td>\n",
       "      <td>State Level Seats</td>\n",
       "      <td>MHT-CET</td>\n",
       "      <td>Universal College of Engineering,Kaman Dist. P...</td>\n",
       "      <td>EN22126150</td>\n",
       "      <td>346024511T</td>\n",
       "    </tr>\n",
       "    <tr>\n",
       "      <th>21624</th>\n",
       "      <td>120608</td>\n",
       "      <td>3.600694</td>\n",
       "      <td>Civil Engineering</td>\n",
       "      <td>F</td>\n",
       "      <td>OPEN</td>\n",
       "      <td>*</td>\n",
       "      <td>LOPENH</td>\n",
       "      <td>Maharashtra State Seats</td>\n",
       "      <td>Home University Seats Allotted to Home Univers...</td>\n",
       "      <td>MHT-CET</td>\n",
       "      <td>Vidyavardhini's College of Engineering and Tec...</td>\n",
       "      <td>EN22114952</td>\n",
       "      <td>319419110</td>\n",
       "    </tr>\n",
       "    <tr>\n",
       "      <th>16147</th>\n",
       "      <td>48008</td>\n",
       "      <td>72.903195</td>\n",
       "      <td>Electronics and Computer Science</td>\n",
       "      <td>F</td>\n",
       "      <td>OPEN</td>\n",
       "      <td>~</td>\n",
       "      <td>MI-MH</td>\n",
       "      <td>Maharashtra State Seats</td>\n",
       "      <td>Other Than Home University Seats Allotted to H...</td>\n",
       "      <td>MHT-CET</td>\n",
       "      <td>Mahavir Education Trust's Shah &amp; Anchor Kutchh...</td>\n",
       "      <td>EN22181689</td>\n",
       "      <td>314890010</td>\n",
       "    </tr>\n",
       "    <tr>\n",
       "      <th>100918</th>\n",
       "      <td>94206</td>\n",
       "      <td>36.162326</td>\n",
       "      <td>Electronics and Telecommunication Engg</td>\n",
       "      <td>M</td>\n",
       "      <td>OPEN</td>\n",
       "      <td>~</td>\n",
       "      <td>PWDOPENH</td>\n",
       "      <td>Maharashtra State Seats</td>\n",
       "      <td>Home University Seats Allotted to Home Univers...</td>\n",
       "      <td>MHT-CET</td>\n",
       "      <td>Bhagwant Institute of Technology, Barshi</td>\n",
       "      <td>EN22124280</td>\n",
       "      <td>678137210</td>\n",
       "    </tr>\n",
       "    <tr>\n",
       "      <th>87720</th>\n",
       "      <td>100066</td>\n",
       "      <td>30.561989</td>\n",
       "      <td>Civil Engineering</td>\n",
       "      <td>M</td>\n",
       "      <td>NT 2 (NT-C)</td>\n",
       "      <td>^</td>\n",
       "      <td>GNT2H</td>\n",
       "      <td>Maharashtra State Seats</td>\n",
       "      <td>Home University Seats Allotted to Home Univers...</td>\n",
       "      <td>MHT-CET</td>\n",
       "      <td>Vidya Pratishthan's Kamalnayan Bajaj Institute...</td>\n",
       "      <td>EN22149074</td>\n",
       "      <td>628419110</td>\n",
       "    </tr>\n",
       "  </tbody>\n",
       "</table>\n",
       "</div>"
      ],
      "text/plain": [
       "          rank  percentile                                  branch gender  \\\n",
       "30794    24822   86.582302                    Computer Engineering      M   \n",
       "21624   120608    3.600694                       Civil Engineering      F   \n",
       "16147    48008   72.903195        Electronics and Computer Science      F   \n",
       "100918   94206   36.162326  Electronics and Telecommunication Engg      M   \n",
       "87720   100066   30.561989                       Civil Engineering      M   \n",
       "\n",
       "           category fulfillment seat_type        primary_seat_type  \\\n",
       "30794           OBC           ^      TFWS        State Level Seats   \n",
       "21624          OPEN           *    LOPENH  Maharashtra State Seats   \n",
       "16147          OPEN           ~     MI-MH  Maharashtra State Seats   \n",
       "100918         OPEN           ~  PWDOPENH  Maharashtra State Seats   \n",
       "87720   NT 2 (NT-C)           ^     GNT2H  Maharashtra State Seats   \n",
       "\n",
       "                                      secondary_seat_type score_type  \\\n",
       "30794                                   State Level Seats    MHT-CET   \n",
       "21624   Home University Seats Allotted to Home Univers...    MHT-CET   \n",
       "16147   Other Than Home University Seats Allotted to H...    MHT-CET   \n",
       "100918  Home University Seats Allotted to Home Univers...    MHT-CET   \n",
       "87720   Home University Seats Allotted to Home Univers...    MHT-CET   \n",
       "\n",
       "                                             college_name enrollment_no  \\\n",
       "30794   Universal College of Engineering,Kaman Dist. P...    EN22126150   \n",
       "21624   Vidyavardhini's College of Engineering and Tec...    EN22114952   \n",
       "16147   Mahavir Education Trust's Shah & Anchor Kutchh...    EN22181689   \n",
       "100918           Bhagwant Institute of Technology, Barshi    EN22124280   \n",
       "87720   Vidya Pratishthan's Kamalnayan Bajaj Institute...    EN22149074   \n",
       "\n",
       "       branch_code  \n",
       "30794   346024511T  \n",
       "21624    319419110  \n",
       "16147    314890010  \n",
       "100918   678137210  \n",
       "87720    628419110  "
      ]
     },
     "execution_count": 4,
     "metadata": {},
     "output_type": "execute_result"
    }
   ],
   "source": [
    "df.sample(5)"
   ]
  },
  {
   "cell_type": "code",
   "execution_count": 5,
   "id": "61c0e8e1",
   "metadata": {},
   "outputs": [
    {
     "data": {
      "text/plain": [
       "(104345, 13)"
      ]
     },
     "execution_count": 5,
     "metadata": {},
     "output_type": "execute_result"
    }
   ],
   "source": [
    "df.shape"
   ]
  },
  {
   "cell_type": "code",
   "execution_count": 6,
   "id": "ccb24e36",
   "metadata": {},
   "outputs": [
    {
     "name": "stdout",
     "output_type": "stream",
     "text": [
      "<class 'pandas.core.frame.DataFrame'>\n",
      "RangeIndex: 104345 entries, 0 to 104344\n",
      "Data columns (total 13 columns):\n",
      " #   Column               Non-Null Count   Dtype  \n",
      "---  ------               --------------   -----  \n",
      " 0   rank                 104345 non-null  int64  \n",
      " 1   percentile           104345 non-null  float64\n",
      " 2   branch               104345 non-null  object \n",
      " 3   gender               104345 non-null  object \n",
      " 4   category             104345 non-null  object \n",
      " 5   fulfillment          104345 non-null  object \n",
      " 6   seat_type            104345 non-null  object \n",
      " 7   primary_seat_type    104345 non-null  object \n",
      " 8   secondary_seat_type  104345 non-null  object \n",
      " 9   score_type           104345 non-null  object \n",
      " 10  college_name         104345 non-null  object \n",
      " 11  enrollment_no        104345 non-null  object \n",
      " 12  branch_code          104345 non-null  object \n",
      "dtypes: float64(1), int64(1), object(11)\n",
      "memory usage: 10.3+ MB\n"
     ]
    }
   ],
   "source": [
    "df.info()"
   ]
  },
  {
   "cell_type": "code",
   "execution_count": 7,
   "id": "7260e905",
   "metadata": {},
   "outputs": [
    {
     "data": {
      "text/plain": [
       "rank                   0\n",
       "percentile             0\n",
       "branch                 0\n",
       "gender                 0\n",
       "category               0\n",
       "fulfillment            0\n",
       "seat_type              0\n",
       "primary_seat_type      0\n",
       "secondary_seat_type    0\n",
       "score_type             0\n",
       "college_name           0\n",
       "enrollment_no          0\n",
       "branch_code            0\n",
       "dtype: int64"
      ]
     },
     "execution_count": 7,
     "metadata": {},
     "output_type": "execute_result"
    }
   ],
   "source": [
    "df.isnull().sum()"
   ]
  },
  {
   "cell_type": "code",
   "execution_count": 8,
   "id": "8fc6692f",
   "metadata": {},
   "outputs": [
    {
     "data": {
      "text/html": [
       "<div>\n",
       "<style scoped>\n",
       "    .dataframe tbody tr th:only-of-type {\n",
       "        vertical-align: middle;\n",
       "    }\n",
       "\n",
       "    .dataframe tbody tr th {\n",
       "        vertical-align: top;\n",
       "    }\n",
       "\n",
       "    .dataframe thead th {\n",
       "        text-align: right;\n",
       "    }\n",
       "</style>\n",
       "<table border=\"1\" class=\"dataframe\">\n",
       "  <thead>\n",
       "    <tr style=\"text-align: right;\">\n",
       "      <th></th>\n",
       "      <th>rank</th>\n",
       "      <th>percentile</th>\n",
       "    </tr>\n",
       "  </thead>\n",
       "  <tbody>\n",
       "    <tr>\n",
       "      <th>count</th>\n",
       "      <td>104345.000000</td>\n",
       "      <td>104345.000000</td>\n",
       "    </tr>\n",
       "    <tr>\n",
       "      <th>mean</th>\n",
       "      <td>53628.903819</td>\n",
       "      <td>63.394483</td>\n",
       "    </tr>\n",
       "    <tr>\n",
       "      <th>std</th>\n",
       "      <td>35253.231789</td>\n",
       "      <td>26.219450</td>\n",
       "    </tr>\n",
       "    <tr>\n",
       "      <th>min</th>\n",
       "      <td>0.000000</td>\n",
       "      <td>0.004739</td>\n",
       "    </tr>\n",
       "    <tr>\n",
       "      <th>25%</th>\n",
       "      <td>22737.000000</td>\n",
       "      <td>45.271811</td>\n",
       "    </tr>\n",
       "    <tr>\n",
       "      <th>50%</th>\n",
       "      <td>49145.000000</td>\n",
       "      <td>69.286946</td>\n",
       "    </tr>\n",
       "    <tr>\n",
       "      <th>75%</th>\n",
       "      <td>82395.000000</td>\n",
       "      <td>85.040326</td>\n",
       "    </tr>\n",
       "    <tr>\n",
       "      <th>max</th>\n",
       "      <td>129286.000000</td>\n",
       "      <td>100.000000</td>\n",
       "    </tr>\n",
       "  </tbody>\n",
       "</table>\n",
       "</div>"
      ],
      "text/plain": [
       "                rank     percentile\n",
       "count  104345.000000  104345.000000\n",
       "mean    53628.903819      63.394483\n",
       "std     35253.231789      26.219450\n",
       "min         0.000000       0.004739\n",
       "25%     22737.000000      45.271811\n",
       "50%     49145.000000      69.286946\n",
       "75%     82395.000000      85.040326\n",
       "max    129286.000000     100.000000"
      ]
     },
     "execution_count": 8,
     "metadata": {},
     "output_type": "execute_result"
    }
   ],
   "source": [
    "df.describe()"
   ]
  },
  {
   "cell_type": "code",
   "execution_count": 9,
   "id": "94435922",
   "metadata": {},
   "outputs": [
    {
     "data": {
      "text/plain": [
       "Index(['rank', 'percentile', 'branch', 'gender', 'category', 'fulfillment',\n",
       "       'seat_type', 'primary_seat_type', 'secondary_seat_type', 'score_type',\n",
       "       'college_name', 'enrollment_no', 'branch_code'],\n",
       "      dtype='object')"
      ]
     },
     "execution_count": 9,
     "metadata": {},
     "output_type": "execute_result"
    }
   ],
   "source": [
    "df.columns"
   ]
  },
  {
   "cell_type": "code",
   "execution_count": 10,
   "id": "62be0395",
   "metadata": {},
   "outputs": [],
   "source": [
    "del(df['fulfillment'])"
   ]
  },
  {
   "cell_type": "code",
   "execution_count": 11,
   "id": "2c434104",
   "metadata": {},
   "outputs": [],
   "source": [
    "del(df['enrollment_no'])\n",
    "del(df['branch_code'])"
   ]
  },
  {
   "cell_type": "code",
   "execution_count": 12,
   "id": "d38349f9",
   "metadata": {},
   "outputs": [
    {
     "data": {
      "text/html": [
       "<div>\n",
       "<style scoped>\n",
       "    .dataframe tbody tr th:only-of-type {\n",
       "        vertical-align: middle;\n",
       "    }\n",
       "\n",
       "    .dataframe tbody tr th {\n",
       "        vertical-align: top;\n",
       "    }\n",
       "\n",
       "    .dataframe thead th {\n",
       "        text-align: right;\n",
       "    }\n",
       "</style>\n",
       "<table border=\"1\" class=\"dataframe\">\n",
       "  <thead>\n",
       "    <tr style=\"text-align: right;\">\n",
       "      <th></th>\n",
       "      <th>rank</th>\n",
       "      <th>percentile</th>\n",
       "      <th>branch</th>\n",
       "      <th>gender</th>\n",
       "      <th>category</th>\n",
       "      <th>seat_type</th>\n",
       "      <th>primary_seat_type</th>\n",
       "      <th>secondary_seat_type</th>\n",
       "      <th>score_type</th>\n",
       "      <th>college_name</th>\n",
       "    </tr>\n",
       "  </thead>\n",
       "  <tbody>\n",
       "    <tr>\n",
       "      <th>0</th>\n",
       "      <td>18388</td>\n",
       "      <td>90.121473</td>\n",
       "      <td>Civil Engineering</td>\n",
       "      <td>M</td>\n",
       "      <td>NT 2 (NT-C)</td>\n",
       "      <td>GOPENS</td>\n",
       "      <td>State Level Seats</td>\n",
       "      <td>State Level Seats</td>\n",
       "      <td>MHT-CET</td>\n",
       "      <td>Government College of Engineering, Amravati</td>\n",
       "    </tr>\n",
       "    <tr>\n",
       "      <th>1</th>\n",
       "      <td>18898</td>\n",
       "      <td>89.889223</td>\n",
       "      <td>Civil Engineering</td>\n",
       "      <td>F</td>\n",
       "      <td>SC</td>\n",
       "      <td>LOPENS</td>\n",
       "      <td>State Level Seats</td>\n",
       "      <td>State Level Seats</td>\n",
       "      <td>MHT-CET</td>\n",
       "      <td>Government College of Engineering, Amravati</td>\n",
       "    </tr>\n",
       "    <tr>\n",
       "      <th>2</th>\n",
       "      <td>19374</td>\n",
       "      <td>89.540152</td>\n",
       "      <td>Civil Engineering</td>\n",
       "      <td>M</td>\n",
       "      <td>OBC</td>\n",
       "      <td>GOPENS</td>\n",
       "      <td>State Level Seats</td>\n",
       "      <td>State Level Seats</td>\n",
       "      <td>MHT-CET</td>\n",
       "      <td>Government College of Engineering, Amravati</td>\n",
       "    </tr>\n",
       "    <tr>\n",
       "      <th>3</th>\n",
       "      <td>21857</td>\n",
       "      <td>88.241971</td>\n",
       "      <td>Civil Engineering</td>\n",
       "      <td>M</td>\n",
       "      <td>OBC</td>\n",
       "      <td>GOPENS</td>\n",
       "      <td>State Level Seats</td>\n",
       "      <td>State Level Seats</td>\n",
       "      <td>MHT-CET</td>\n",
       "      <td>Government College of Engineering, Amravati</td>\n",
       "    </tr>\n",
       "    <tr>\n",
       "      <th>4</th>\n",
       "      <td>22128</td>\n",
       "      <td>88.091617</td>\n",
       "      <td>Civil Engineering</td>\n",
       "      <td>M</td>\n",
       "      <td>DT/VJ</td>\n",
       "      <td>GOPENS</td>\n",
       "      <td>State Level Seats</td>\n",
       "      <td>State Level Seats</td>\n",
       "      <td>MHT-CET</td>\n",
       "      <td>Government College of Engineering, Amravati</td>\n",
       "    </tr>\n",
       "  </tbody>\n",
       "</table>\n",
       "</div>"
      ],
      "text/plain": [
       "    rank  percentile             branch gender     category seat_type  \\\n",
       "0  18388   90.121473  Civil Engineering      M  NT 2 (NT-C)    GOPENS   \n",
       "1  18898   89.889223  Civil Engineering      F           SC    LOPENS   \n",
       "2  19374   89.540152  Civil Engineering      M          OBC    GOPENS   \n",
       "3  21857   88.241971  Civil Engineering      M          OBC    GOPENS   \n",
       "4  22128   88.091617  Civil Engineering      M        DT/VJ    GOPENS   \n",
       "\n",
       "   primary_seat_type secondary_seat_type score_type  \\\n",
       "0  State Level Seats   State Level Seats    MHT-CET   \n",
       "1  State Level Seats   State Level Seats    MHT-CET   \n",
       "2  State Level Seats   State Level Seats    MHT-CET   \n",
       "3  State Level Seats   State Level Seats    MHT-CET   \n",
       "4  State Level Seats   State Level Seats    MHT-CET   \n",
       "\n",
       "                                  college_name  \n",
       "0  Government College of Engineering, Amravati  \n",
       "1  Government College of Engineering, Amravati  \n",
       "2  Government College of Engineering, Amravati  \n",
       "3  Government College of Engineering, Amravati  \n",
       "4  Government College of Engineering, Amravati  "
      ]
     },
     "execution_count": 12,
     "metadata": {},
     "output_type": "execute_result"
    }
   ],
   "source": [
    "df.head()"
   ]
  },
  {
   "cell_type": "code",
   "execution_count": 13,
   "id": "a2be0341",
   "metadata": {},
   "outputs": [
    {
     "data": {
      "text/plain": [
       "<seaborn.axisgrid.PairGrid at 0x1733fab10c0>"
      ]
     },
     "execution_count": 13,
     "metadata": {},
     "output_type": "execute_result"
    },
    {
     "data": {
      "image/png": "[encoded data removed]",
      "text/plain": [
       "<Figure size 500x500 with 6 Axes>"
      ]
     },
     "metadata": {},
     "output_type": "display_data"
    }
   ],
   "source": [
    "sns.pairplot(df)"
   ]
  },
  {
   "cell_type": "code",
   "execution_count": 14,
   "id": "933781f3",
   "metadata": {},
   "outputs": [],
   "source": [
    "from sklearn.model_selection import train_test_split"
   ]
  },
  {
   "cell_type": "code",
   "execution_count": 15,
   "id": "fb0d8af4",
   "metadata": {},
   "outputs": [],
   "source": [
    "X = df[['percentile','branch','category','seat_type','score_type']]\n",
    "y = df['college_name']"
   ]
  },
  {
   "cell_type": "code",
   "execution_count": 16,
   "id": "6ab8ac7c",
   "metadata": {},
   "outputs": [],
   "source": [
    "x_train, x_test, y_train, y_test = train_test_split(X, y, test_size=0.2, random_state=10)"
   ]
  },
  {
   "cell_type": "code",
   "execution_count": 17,
   "id": "e9b03b3d",
   "metadata": {},
   "outputs": [
    {
     "name": "stdout",
     "output_type": "stream",
     "text": [
      "(83476, 5)\n",
      "(20869, 5)\n",
      "(83476,)\n",
      "(20869,)\n"
     ]
    }
   ],
   "source": [
    "print(x_train.shape)\n",
    "print(x_test.shape)\n",
    "print(y_train.shape)\n",
    "print(y_test.shape)"
   ]
  },
  {
   "cell_type": "code",
   "execution_count": 18,
   "id": "4f51208b",
   "metadata": {},
   "outputs": [],
   "source": [
    "from sklearn.ensemble import RandomForestClassifier"
   ]
  },
  {
   "cell_type": "code",
   "execution_count": 19,
   "id": "41c13a56",
   "metadata": {},
   "outputs": [],
   "source": [
    "rf_classifier = RandomForestClassifier(n_estimators=100, random_state=10)"
   ]
  },
  {
   "cell_type": "code",
   "execution_count": 20,
   "id": "d3d97402",
   "metadata": {},
   "outputs": [],
   "source": [
    "from sklearn.preprocessing import OneHotEncoder"
   ]
  },
  {
   "cell_type": "code",
   "execution_count": 21,
   "id": "4943658b",
   "metadata": {},
   "outputs": [
    {
     "data": {
      "text/html": [
       "<style>#sk-container-id-1 {color: black;background-color: white;}#sk-container-id-1 pre{padding: 0;}#sk-container-id-1 div.sk-toggleable {background-color: white;}#sk-container-id-1 label.sk-toggleable__label {cursor: pointer;display: block;width: 100%;margin-bottom: 0;padding: 0.3em;box-sizing: border-box;text-align: center;}#sk-container-id-1 label.sk-toggleable__label-arrow:before {content: \"▸\";float: left;margin-right: 0.25em;color: #696969;}#sk-container-id-1 label.sk-toggleable__label-arrow:hover:before {color: black;}#sk-container-id-1 div.sk-estimator:hover label.sk-toggleable__label-arrow:before {color: black;}#sk-container-id-1 div.sk-toggleable__content {max-height: 0;max-width: 0;overflow: hidden;text-align: left;background-color: #f0f8ff;}#sk-container-id-1 div.sk-toggleable__content pre {margin: 0.2em;color: black;border-radius: 0.25em;background-color: #f0f8ff;}#sk-container-id-1 input.sk-toggleable__control:checked~div.sk-toggleable__content {max-height: 200px;max-width: 100%;overflow: auto;}#sk-container-id-1 input.sk-toggleable__control:checked~label.sk-toggleable__label-arrow:before {content: \"▾\";}#sk-container-id-1 div.sk-estimator input.sk-toggleable__control:checked~label.sk-toggleable__label {background-color: #d4ebff;}#sk-container-id-1 div.sk-label input.sk-toggleable__control:checked~label.sk-toggleable__label {background-color: #d4ebff;}#sk-container-id-1 input.sk-hidden--visually {border: 0;clip: rect(1px 1px 1px 1px);clip: rect(1px, 1px, 1px, 1px);height: 1px;margin: -1px;overflow: hidden;padding: 0;position: absolute;width: 1px;}#sk-container-id-1 div.sk-estimator {font-family: monospace;background-color: #f0f8ff;border: 1px dotted black;border-radius: 0.25em;box-sizing: border-box;margin-bottom: 0.5em;}#sk-container-id-1 div.sk-estimator:hover {background-color: #d4ebff;}#sk-container-id-1 div.sk-parallel-item::after {content: \"\";width: 100%;border-bottom: 1px solid gray;flex-grow: 1;}#sk-container-id-1 div.sk-label:hover label.sk-toggleable__label {background-color: #d4ebff;}#sk-container-id-1 div.sk-serial::before {content: \"\";position: absolute;border-left: 1px solid gray;box-sizing: border-box;top: 0;bottom: 0;left: 50%;z-index: 0;}#sk-container-id-1 div.sk-serial {display: flex;flex-direction: column;align-items: center;background-color: white;padding-right: 0.2em;padding-left: 0.2em;position: relative;}#sk-container-id-1 div.sk-item {position: relative;z-index: 1;}#sk-container-id-1 div.sk-parallel {display: flex;align-items: stretch;justify-content: center;background-color: white;position: relative;}#sk-container-id-1 div.sk-item::before, #sk-container-id-1 div.sk-parallel-item::before {content: \"\";position: absolute;border-left: 1px solid gray;box-sizing: border-box;top: 0;bottom: 0;left: 50%;z-index: -1;}#sk-container-id-1 div.sk-parallel-item {display: flex;flex-direction: column;z-index: 1;position: relative;background-color: white;}#sk-container-id-1 div.sk-parallel-item:first-child::after {align-self: flex-end;width: 50%;}#sk-container-id-1 div.sk-parallel-item:last-child::after {align-self: flex-start;width: 50%;}#sk-container-id-1 div.sk-parallel-item:only-child::after {width: 0;}#sk-container-id-1 div.sk-dashed-wrapped {border: 1px dashed gray;margin: 0 0.4em 0.5em 0.4em;box-sizing: border-box;padding-bottom: 0.4em;background-color: white;}#sk-container-id-1 div.sk-label label {font-family: monospace;font-weight: bold;display: inline-block;line-height: 1.2em;}#sk-container-id-1 div.sk-label-container {text-align: center;}#sk-container-id-1 div.sk-container {/* jupyter's `normalize.less` sets `[hidden] { display: none; }` but bootstrap.min.css set `[hidden] { display: none !important; }` so we also need the `!important` here to be able to override the default hidden behavior on the sphinx rendered scikit-learn.org. See: https://github.com/scikit-learn/scikit-learn/issues/21755 */display: inline-block !important;position: relative;}#sk-container-id-1 div.sk-text-repr-fallback {display: none;}</style><div id=\"sk-container-id-1\" class=\"sk-top-container\"><div class=\"sk-text-repr-fallback\"><pre>OneHotEncoder()</pre><b>In a Jupyter environment, please rerun this cell to show the HTML representation or trust the notebook. <br />On GitHub, the HTML representation is unable to render, please try loading this page with nbviewer.org.</b></div><div class=\"sk-container\" hidden><div class=\"sk-item\"><div class=\"sk-estimator sk-toggleable\"><input class=\"sk-toggleable__control sk-hidden--visually\" id=\"sk-estimator-id-1\" type=\"checkbox\" checked><label for=\"sk-estimator-id-1\" class=\"sk-toggleable__label sk-toggleable__label-arrow\">OneHotEncoder</label><div class=\"sk-toggleable__content\"><pre>OneHotEncoder()</pre></div></div></div></div></div>"
      ],
      "text/plain": [
       "OneHotEncoder()"
      ]
     },
     "execution_count": 21,
     "metadata": {},
     "output_type": "execute_result"
    }
   ],
   "source": [
    "ohe = OneHotEncoder()\n",
    "ohe.fit(X[['branch','category','seat_type','score_type']])"
   ]
  },
  {
   "cell_type": "code",
   "execution_count": 22,
   "id": "5c1875c1",
   "metadata": {},
   "outputs": [
    {
     "data": {
      "text/plain": [
       "[array(['Aeronautical Engineering', 'Agricultural Engineering',\n",
       "        'Agriculture Engineering', 'Artificial Intelligence',\n",
       "        'Artificial Intelligence (AI) and Data Science',\n",
       "        'Artificial Intelligence and Data Science',\n",
       "        'Artificial Intelligence and Data Science University , Jalgaon',\n",
       "        'Artificial Intelligence and Machine Learning',\n",
       "        'Automation and Robotics', 'Automobile Engineering',\n",
       "        'Automotive Technology', 'Bio Medical Engineering',\n",
       "        'Bio Technology', 'Chemical Engineering', 'Civil Engineering',\n",
       "        'Civil and Environmental Engineering',\n",
       "        'Civil and infrastructure Engineering', 'Computer Engineering',\n",
       "        'Computer Engineering (Regional Language)',\n",
       "        'Computer Science and Business Systems',\n",
       "        'Computer Science and Design', 'Computer Science and Engineering',\n",
       "        'Computer Science and Engineering (Artificial Intelligence and Data Science)',\n",
       "        'Computer Science and Engineering (Artificial Intelligence)',\n",
       "        'Computer Science and Engineering (Cyber Security)',\n",
       "        'Computer Science and Engineering (Internet of Things and Cyber Security Including Block Chain Technology)',\n",
       "        'Computer Science and Engineering (IoT)',\n",
       "        'Computer Science and Engineering University , Jalgaon',\n",
       "        'Computer Science and Engineering(Artificial Intelligence and Machine Learning)',\n",
       "        'Computer Science and Engineering(Cyber Security)',\n",
       "        'Computer Science and Engineering(Data Science)',\n",
       "        'Computer Science and Information Technology',\n",
       "        'Computer Science and Technology', 'Computer Technology',\n",
       "        'Cyber Security', 'Data Engineering', 'Data Science',\n",
       "        'Dyestuff Technology', 'Electrical Engg [Electrical and Power]',\n",
       "        'Electrical Engg[Electronics and Power]', 'Electrical Engineering',\n",
       "        'Electrical and ComputerEngineering',\n",
       "        'Electrical and Electronics Engineering',\n",
       "        'Electronics Engineering',\n",
       "        'Electronics Engineering ( VLSI Design and Technology)',\n",
       "        'Electronics and Communication Engineering',\n",
       "        'Electronics and Computer Engineering',\n",
       "        'Electronics and Computer Science',\n",
       "        'Electronics and Telecommunication Engg',\n",
       "        'Electronics and Telecommunication Engg University , Jalgaon',\n",
       "        'Fashion Technology', 'Fibres and Textile Processing Technology',\n",
       "        'Food Engineering and Technology', 'Food Technology',\n",
       "        'Food Technology And Management', 'Industrial IoT',\n",
       "        'Information Technology', 'Instrumentation Engineering',\n",
       "        'Instrumentation and Control Engineering',\n",
       "        'Internet of Things (IoT)', 'Man Made Textile Technology',\n",
       "        'Manufacturing Science and Engineering',\n",
       "        'Mechanical & Automation Engineering', 'Mechanical Engineering',\n",
       "        'Mechanical Engineering[Sandwich]',\n",
       "        'Mechanical and Mechatronics Engineering (Additive Manufacturing)',\n",
       "        'Mechatronics Engineering', 'Metallurgy and Material Technology',\n",
       "        'Mining Engineering', 'Oil Technology',\n",
       "        'Oil and Paints Technology',\n",
       "        'Oil,Oleochemicals and Surfactants Technology',\n",
       "        'Paints Technology', 'Paper and Pulp Technology',\n",
       "        'Petro Chemical Engineering', 'Petro Chemical Technology',\n",
       "        'Pharmaceutical and Fine Chemical Technology',\n",
       "        'Pharmaceuticals Chemistry and Technology', 'Plastic Technology',\n",
       "        'Plastic and Polymer Engineering',\n",
       "        'Plastic and Polymer Technology',\n",
       "        'Polymer Engineering and Technology', 'Printing Technology',\n",
       "        'Production Engineering', 'Production Engineering[Sandwich]',\n",
       "        'Robotics', 'Robotics and Artificial Intelligence',\n",
       "        'Robotics and Automation', 'Safety and Fire Engineering',\n",
       "        'Structural Engineering', 'Surface Coating Technology',\n",
       "        'Textile Chemistry', 'Textile Engineering / Technology',\n",
       "        'Textile Plant Engineering', 'Textile Technology'], dtype=object),\n",
       " array(['DT/VJ', 'DT/VJ#', 'DT/VJ$', 'DT/VJ$#', 'DT/VJ$/DEF1',\n",
       "        'DT/VJ/DEF1', 'DT/VJ/DEF2', 'DT/VJ/PH1', 'NT 1 (NT-B)',\n",
       "        'NT 1 (NT-B)#', 'NT 1 (NT-B)$', 'NT 1 (NT-B)$#',\n",
       "        'NT 1 (NT-B)/DEF1', 'NT 1 (NT-B)/DEF2', 'NT 1 (NT-B)/PH1',\n",
       "        'NT 2 (NT-C)', 'NT 2 (NT-C)#', 'NT 2 (NT-C)$', 'NT 2 (NT-C)$#',\n",
       "        'NT 2 (NT-C)$/PH1', 'NT 2 (NT-C)/DEF1', 'NT 2 (NT-C)/DEF2',\n",
       "        'NT 2 (NT-C)/PH1', 'NT 3 (NT-D)', 'NT 3 (NT-D)#', 'NT 3 (NT-D)$',\n",
       "        'NT 3 (NT-D)$#', 'NT 3 (NT-D)/DEF1', 'NT 3 (NT-D)/DEF2',\n",
       "        'NT 3 (NT-D)/PH1', 'OBC', 'OBC#', 'OBC#/DEF1', 'OBC#/PH1', 'OBC$',\n",
       "        'OBC$#', 'OBC$#/DEF1', 'OBC$#/DEF2', 'OBC$#/PH1', 'OBC$/DEF1',\n",
       "        'OBC$/DEF2', 'OBC$/DEF3', 'OBC$/PH1', 'OBC/DEF1', 'OBC/DEF2',\n",
       "        'OBC/DEF3', 'OBC/PH1', 'OPEN', 'Open/DEF1', 'Open/DEF2',\n",
       "        'Open/DEF3', 'Open/PH1', 'SBC', 'SBC#', 'SBC#/DEF1', 'SBC$',\n",
       "        'SBC$#', 'SBC$/PH1', 'SBC/DEF1', 'SBC/DEF2', 'SBC/PH1', 'SC',\n",
       "        'SC$', 'SC$/DEF1', 'SC/DEF1', 'SC/DEF2', 'SC/DEF3', 'SC/PH1', 'ST',\n",
       "        'ST$', 'ST/DEF1', 'ST/DEF2', 'ST/PH1'], dtype=object),\n",
       " array(['AI', 'DEFOBCS', 'DEFOPENS', 'DEFRNT1S', 'DEFRNT2S', 'DEFRNT3S',\n",
       "        'DEFROBCS', 'DEFRSCS', 'DEFSCS', 'EWS', 'GNT1H', 'GNT1O', 'GNT1S',\n",
       "        'GNT2H', 'GNT2O', 'GNT2S', 'GNT3H', 'GNT3O', 'GNT3S', 'GOBCH',\n",
       "        'GOBCO', 'GOBCS', 'GOPENH', 'GOPENO', 'GOPENS', 'GSCH', 'GSCO',\n",
       "        'GSCS', 'GSTH', 'GSTO', 'GSTS', 'GVJH', 'GVJO', 'GVJS', 'LNT1H',\n",
       "        'LNT1O', 'LNT1S', 'LNT2H', 'LNT2O', 'LNT2S', 'LNT3H', 'LNT3O',\n",
       "        'LNT3S', 'LOBCH', 'LOBCO', 'LOBCS', 'LOPENH', 'LOPENO', 'LOPENS',\n",
       "        'LSCH', 'LSCO', 'LSCS', 'LSTH', 'LSTO', 'LSTS', 'LVJH', 'LVJO',\n",
       "        'LVJS', 'MI', 'MI-AI', 'MI-MH', 'ORPHAN', 'PWDOBCH', 'PWDOBCS',\n",
       "        'PWDOPENH', 'PWDOPENS', 'PWDRNT1S', 'PWDRNT2S', 'PWDRNT3S',\n",
       "        'PWDROBCH', 'PWDROBCS', 'PWDRSCH', 'PWDRSCS', 'PWDRVJS', 'PWDSCH',\n",
       "        'PWDSCS', 'TFWS'], dtype=object),\n",
       " array(['JEE(Main)', 'MHT-CET', 'Merit'], dtype=object)]"
      ]
     },
     "execution_count": 22,
     "metadata": {},
     "output_type": "execute_result"
    }
   ],
   "source": [
    "ohe.categories_"
   ]
  },
  {
   "cell_type": "code",
   "execution_count": 23,
   "id": "b8500108",
   "metadata": {},
   "outputs": [],
   "source": [
    "from sklearn.compose import make_column_transformer\n",
    "from sklearn.pipeline import make_pipeline"
   ]
  },
  {
   "cell_type": "code",
   "execution_count": 24,
   "id": "bcaca0a5",
   "metadata": {},
   "outputs": [],
   "source": [
    "column_trans = make_column_transformer((OneHotEncoder(categories=ohe.categories_), ['branch','category','seat_type','score_type']),\n",
    "                                       remainder='passthrough')"
   ]
  },
  {
   "cell_type": "code",
   "execution_count": 25,
   "id": "d7448856",
   "metadata": {},
   "outputs": [],
   "source": [
    "pipe = make_pipeline(column_trans,rf_classifier)"
   ]
  },
  {
   "cell_type": "code",
   "execution_count": 26,
   "id": "ed2d2706",
   "metadata": {},
   "outputs": [
    {
     "data": {
      "text/html": [
       "<style>#sk-container-id-2 {color: black;background-color: white;}#sk-container-id-2 pre{padding: 0;}#sk-container-id-2 div.sk-toggleable {background-color: white;}#sk-container-id-2 label.sk-toggleable__label {cursor: pointer;display: block;width: 100%;margin-bottom: 0;padding: 0.3em;box-sizing: border-box;text-align: center;}#sk-container-id-2 label.sk-toggleable__label-arrow:before {content: \"▸\";float: left;margin-right: 0.25em;color: #696969;}#sk-container-id-2 label.sk-toggleable__label-arrow:hover:before {color: black;}#sk-container-id-2 div.sk-estimator:hover label.sk-toggleable__label-arrow:before {color: black;}#sk-container-id-2 div.sk-toggleable__content {max-height: 0;max-width: 0;overflow: hidden;text-align: left;background-color: #f0f8ff;}#sk-container-id-2 div.sk-toggleable__content pre {margin: 0.2em;color: black;border-radius: 0.25em;background-color: #f0f8ff;}#sk-container-id-2 input.sk-toggleable__control:checked~div.sk-toggleable__content {max-height: 200px;max-width: 100%;overflow: auto;}#sk-container-id-2 input.sk-toggleable__control:checked~label.sk-toggleable__label-arrow:before {content: \"▾\";}#sk-container-id-2 div.sk-estimator input.sk-toggleable__control:checked~label.sk-toggleable__label {background-color: #d4ebff;}#sk-container-id-2 div.sk-label input.sk-toggleable__control:checked~label.sk-toggleable__label {background-color: #d4ebff;}#sk-container-id-2 input.sk-hidden--visually {border: 0;clip: rect(1px 1px 1px 1px);clip: rect(1px, 1px, 1px, 1px);height: 1px;margin: -1px;overflow: hidden;padding: 0;position: absolute;width: 1px;}#sk-container-id-2 div.sk-estimator {font-family: monospace;background-color: #f0f8ff;border: 1px dotted black;border-radius: 0.25em;box-sizing: border-box;margin-bottom: 0.5em;}#sk-container-id-2 div.sk-estimator:hover {background-color: #d4ebff;}#sk-container-id-2 div.sk-parallel-item::after {content: \"\";width: 100%;border-bottom: 1px solid gray;flex-grow: 1;}#sk-container-id-2 div.sk-label:hover label.sk-toggleable__label {background-color: #d4ebff;}#sk-container-id-2 div.sk-serial::before {content: \"\";position: absolute;border-left: 1px solid gray;box-sizing: border-box;top: 0;bottom: 0;left: 50%;z-index: 0;}#sk-container-id-2 div.sk-serial {display: flex;flex-direction: column;align-items: center;background-color: white;padding-right: 0.2em;padding-left: 0.2em;position: relative;}#sk-container-id-2 div.sk-item {position: relative;z-index: 1;}#sk-container-id-2 div.sk-parallel {display: flex;align-items: stretch;justify-content: center;background-color: white;position: relative;}#sk-container-id-2 div.sk-item::before, #sk-container-id-2 div.sk-parallel-item::before {content: \"\";position: absolute;border-left: 1px solid gray;box-sizing: border-box;top: 0;bottom: 0;left: 50%;z-index: -1;}#sk-container-id-2 div.sk-parallel-item {display: flex;flex-direction: column;z-index: 1;position: relative;background-color: white;}#sk-container-id-2 div.sk-parallel-item:first-child::after {align-self: flex-end;width: 50%;}#sk-container-id-2 div.sk-parallel-item:last-child::after {align-self: flex-start;width: 50%;}#sk-container-id-2 div.sk-parallel-item:only-child::after {width: 0;}#sk-container-id-2 div.sk-dashed-wrapped {border: 1px dashed gray;margin: 0 0.4em 0.5em 0.4em;box-sizing: border-box;padding-bottom: 0.4em;background-color: white;}#sk-container-id-2 div.sk-label label {font-family: monospace;font-weight: bold;display: inline-block;line-height: 1.2em;}#sk-container-id-2 div.sk-label-container {text-align: center;}#sk-container-id-2 div.sk-container {/* jupyter's `normalize.less` sets `[hidden] { display: none; }` but bootstrap.min.css set `[hidden] { display: none !important; }` so we also need the `!important` here to be able to override the default hidden behavior on the sphinx rendered scikit-learn.org. See: https://github.com/scikit-learn/scikit-learn/issues/21755 */display: inline-block !important;position: relative;}#sk-container-id-2 div.sk-text-repr-fallback {display: none;}</style><div id=\"sk-container-id-2\" class=\"sk-top-container\"><div class=\"sk-text-repr-fallback\"><pre>Pipeline(steps=[(&#x27;columntransformer&#x27;,\n",
       "                 ColumnTransformer(remainder=&#x27;passthrough&#x27;,\n",
       "                                   transformers=[(&#x27;onehotencoder&#x27;,\n",
       "                                                  OneHotEncoder(categories=[array([&#x27;Aeronautical Engineering&#x27;, &#x27;Agricultural Engineering&#x27;,\n",
       "       &#x27;Agriculture Engineering&#x27;, &#x27;Artificial Intelligence&#x27;,\n",
       "       &#x27;Artificial Intelligence (AI) and Data Science&#x27;,\n",
       "       &#x27;Artificial Intelligence and Data Science&#x27;,\n",
       "       &#x27;Artificial Intelligence...\n",
       "       &#x27;LVJS&#x27;, &#x27;MI&#x27;, &#x27;MI-AI&#x27;, &#x27;MI-MH&#x27;, &#x27;ORPHAN&#x27;, &#x27;PWDOBCH&#x27;, &#x27;PWDOBCS&#x27;,\n",
       "       &#x27;PWDOPENH&#x27;, &#x27;PWDOPENS&#x27;, &#x27;PWDRNT1S&#x27;, &#x27;PWDRNT2S&#x27;, &#x27;PWDRNT3S&#x27;,\n",
       "       &#x27;PWDROBCH&#x27;, &#x27;PWDROBCS&#x27;, &#x27;PWDRSCH&#x27;, &#x27;PWDRSCS&#x27;, &#x27;PWDRVJS&#x27;, &#x27;PWDSCH&#x27;,\n",
       "       &#x27;PWDSCS&#x27;, &#x27;TFWS&#x27;], dtype=object),\n",
       "                                                                            array([&#x27;JEE(Main)&#x27;, &#x27;MHT-CET&#x27;, &#x27;Merit&#x27;], dtype=object)]),\n",
       "                                                  [&#x27;branch&#x27;, &#x27;category&#x27;,\n",
       "                                                   &#x27;seat_type&#x27;,\n",
       "                                                   &#x27;score_type&#x27;])])),\n",
       "                (&#x27;randomforestclassifier&#x27;,\n",
       "                 RandomForestClassifier(random_state=10))])</pre><b>In a Jupyter environment, please rerun this cell to show the HTML representation or trust the notebook. <br />On GitHub, the HTML representation is unable to render, please try loading this page with nbviewer.org.</b></div><div class=\"sk-container\" hidden><div class=\"sk-item sk-dashed-wrapped\"><div class=\"sk-label-container\"><div class=\"sk-label sk-toggleable\"><input class=\"sk-toggleable__control sk-hidden--visually\" id=\"sk-estimator-id-2\" type=\"checkbox\" ><label for=\"sk-estimator-id-2\" class=\"sk-toggleable__label sk-toggleable__label-arrow\">Pipeline</label><div class=\"sk-toggleable__content\"><pre>Pipeline(steps=[(&#x27;columntransformer&#x27;,\n",
       "                 ColumnTransformer(remainder=&#x27;passthrough&#x27;,\n",
       "                                   transformers=[(&#x27;onehotencoder&#x27;,\n",
       "                                                  OneHotEncoder(categories=[array([&#x27;Aeronautical Engineering&#x27;, &#x27;Agricultural Engineering&#x27;,\n",
       "       &#x27;Agriculture Engineering&#x27;, &#x27;Artificial Intelligence&#x27;,\n",
       "       &#x27;Artificial Intelligence (AI) and Data Science&#x27;,\n",
       "       &#x27;Artificial Intelligence and Data Science&#x27;,\n",
       "       &#x27;Artificial Intelligence...\n",
       "       &#x27;LVJS&#x27;, &#x27;MI&#x27;, &#x27;MI-AI&#x27;, &#x27;MI-MH&#x27;, &#x27;ORPHAN&#x27;, &#x27;PWDOBCH&#x27;, &#x27;PWDOBCS&#x27;,\n",
       "       &#x27;PWDOPENH&#x27;, &#x27;PWDOPENS&#x27;, &#x27;PWDRNT1S&#x27;, &#x27;PWDRNT2S&#x27;, &#x27;PWDRNT3S&#x27;,\n",
       "       &#x27;PWDROBCH&#x27;, &#x27;PWDROBCS&#x27;, &#x27;PWDRSCH&#x27;, &#x27;PWDRSCS&#x27;, &#x27;PWDRVJS&#x27;, &#x27;PWDSCH&#x27;,\n",
       "       &#x27;PWDSCS&#x27;, &#x27;TFWS&#x27;], dtype=object),\n",
       "                                                                            array([&#x27;JEE(Main)&#x27;, &#x27;MHT-CET&#x27;, &#x27;Merit&#x27;], dtype=object)]),\n",
       "                                                  [&#x27;branch&#x27;, &#x27;category&#x27;,\n",
       "                                                   &#x27;seat_type&#x27;,\n",
       "                                                   &#x27;score_type&#x27;])])),\n",
       "                (&#x27;randomforestclassifier&#x27;,\n",
       "                 RandomForestClassifier(random_state=10))])</pre></div></div></div><div class=\"sk-serial\"><div class=\"sk-item sk-dashed-wrapped\"><div class=\"sk-label-container\"><div class=\"sk-label sk-toggleable\"><input class=\"sk-toggleable__control sk-hidden--visually\" id=\"sk-estimator-id-3\" type=\"checkbox\" ><label for=\"sk-estimator-id-3\" class=\"sk-toggleable__label sk-toggleable__label-arrow\">columntransformer: ColumnTransformer</label><div class=\"sk-toggleable__content\"><pre>ColumnTransformer(remainder=&#x27;passthrough&#x27;,\n",
       "                  transformers=[(&#x27;onehotencoder&#x27;,\n",
       "                                 OneHotEncoder(categories=[array([&#x27;Aeronautical Engineering&#x27;, &#x27;Agricultural Engineering&#x27;,\n",
       "       &#x27;Agriculture Engineering&#x27;, &#x27;Artificial Intelligence&#x27;,\n",
       "       &#x27;Artificial Intelligence (AI) and Data Science&#x27;,\n",
       "       &#x27;Artificial Intelligence and Data Science&#x27;,\n",
       "       &#x27;Artificial Intelligence and Data Science University , Jalgaon&#x27;,\n",
       "       &#x27;Ar...\n",
       "       &#x27;LSCH&#x27;, &#x27;LSCO&#x27;, &#x27;LSCS&#x27;, &#x27;LSTH&#x27;, &#x27;LSTO&#x27;, &#x27;LSTS&#x27;, &#x27;LVJH&#x27;, &#x27;LVJO&#x27;,\n",
       "       &#x27;LVJS&#x27;, &#x27;MI&#x27;, &#x27;MI-AI&#x27;, &#x27;MI-MH&#x27;, &#x27;ORPHAN&#x27;, &#x27;PWDOBCH&#x27;, &#x27;PWDOBCS&#x27;,\n",
       "       &#x27;PWDOPENH&#x27;, &#x27;PWDOPENS&#x27;, &#x27;PWDRNT1S&#x27;, &#x27;PWDRNT2S&#x27;, &#x27;PWDRNT3S&#x27;,\n",
       "       &#x27;PWDROBCH&#x27;, &#x27;PWDROBCS&#x27;, &#x27;PWDRSCH&#x27;, &#x27;PWDRSCS&#x27;, &#x27;PWDRVJS&#x27;, &#x27;PWDSCH&#x27;,\n",
       "       &#x27;PWDSCS&#x27;, &#x27;TFWS&#x27;], dtype=object),\n",
       "                                                           array([&#x27;JEE(Main)&#x27;, &#x27;MHT-CET&#x27;, &#x27;Merit&#x27;], dtype=object)]),\n",
       "                                 [&#x27;branch&#x27;, &#x27;category&#x27;, &#x27;seat_type&#x27;,\n",
       "                                  &#x27;score_type&#x27;])])</pre></div></div></div><div class=\"sk-parallel\"><div class=\"sk-parallel-item\"><div class=\"sk-item\"><div class=\"sk-label-container\"><div class=\"sk-label sk-toggleable\"><input class=\"sk-toggleable__control sk-hidden--visually\" id=\"sk-estimator-id-4\" type=\"checkbox\" ><label for=\"sk-estimator-id-4\" class=\"sk-toggleable__label sk-toggleable__label-arrow\">onehotencoder</label><div class=\"sk-toggleable__content\"><pre>[&#x27;branch&#x27;, &#x27;category&#x27;, &#x27;seat_type&#x27;, &#x27;score_type&#x27;]</pre></div></div></div><div class=\"sk-serial\"><div class=\"sk-item\"><div class=\"sk-estimator sk-toggleable\"><input class=\"sk-toggleable__control sk-hidden--visually\" id=\"sk-estimator-id-5\" type=\"checkbox\" ><label for=\"sk-estimator-id-5\" class=\"sk-toggleable__label sk-toggleable__label-arrow\">OneHotEncoder</label><div class=\"sk-toggleable__content\"><pre>OneHotEncoder(categories=[array([&#x27;Aeronautical Engineering&#x27;, &#x27;Agricultural Engineering&#x27;,\n",
       "       &#x27;Agriculture Engineering&#x27;, &#x27;Artificial Intelligence&#x27;,\n",
       "       &#x27;Artificial Intelligence (AI) and Data Science&#x27;,\n",
       "       &#x27;Artificial Intelligence and Data Science&#x27;,\n",
       "       &#x27;Artificial Intelligence and Data Science University , Jalgaon&#x27;,\n",
       "       &#x27;Artificial Intelligence and Machine Learning&#x27;,\n",
       "       &#x27;Automation and Robotics&#x27;, &#x27;Automobi...\n",
       "       &#x27;LNT3S&#x27;, &#x27;LOBCH&#x27;, &#x27;LOBCO&#x27;, &#x27;LOBCS&#x27;, &#x27;LOPENH&#x27;, &#x27;LOPENO&#x27;, &#x27;LOPENS&#x27;,\n",
       "       &#x27;LSCH&#x27;, &#x27;LSCO&#x27;, &#x27;LSCS&#x27;, &#x27;LSTH&#x27;, &#x27;LSTO&#x27;, &#x27;LSTS&#x27;, &#x27;LVJH&#x27;, &#x27;LVJO&#x27;,\n",
       "       &#x27;LVJS&#x27;, &#x27;MI&#x27;, &#x27;MI-AI&#x27;, &#x27;MI-MH&#x27;, &#x27;ORPHAN&#x27;, &#x27;PWDOBCH&#x27;, &#x27;PWDOBCS&#x27;,\n",
       "       &#x27;PWDOPENH&#x27;, &#x27;PWDOPENS&#x27;, &#x27;PWDRNT1S&#x27;, &#x27;PWDRNT2S&#x27;, &#x27;PWDRNT3S&#x27;,\n",
       "       &#x27;PWDROBCH&#x27;, &#x27;PWDROBCS&#x27;, &#x27;PWDRSCH&#x27;, &#x27;PWDRSCS&#x27;, &#x27;PWDRVJS&#x27;, &#x27;PWDSCH&#x27;,\n",
       "       &#x27;PWDSCS&#x27;, &#x27;TFWS&#x27;], dtype=object),\n",
       "                          array([&#x27;JEE(Main)&#x27;, &#x27;MHT-CET&#x27;, &#x27;Merit&#x27;], dtype=object)])</pre></div></div></div></div></div></div><div class=\"sk-parallel-item\"><div class=\"sk-item\"><div class=\"sk-label-container\"><div class=\"sk-label sk-toggleable\"><input class=\"sk-toggleable__control sk-hidden--visually\" id=\"sk-estimator-id-6\" type=\"checkbox\" ><label for=\"sk-estimator-id-6\" class=\"sk-toggleable__label sk-toggleable__label-arrow\">remainder</label><div class=\"sk-toggleable__content\"><pre>[&#x27;percentile&#x27;]</pre></div></div></div><div class=\"sk-serial\"><div class=\"sk-item\"><div class=\"sk-estimator sk-toggleable\"><input class=\"sk-toggleable__control sk-hidden--visually\" id=\"sk-estimator-id-7\" type=\"checkbox\" ><label for=\"sk-estimator-id-7\" class=\"sk-toggleable__label sk-toggleable__label-arrow\">passthrough</label><div class=\"sk-toggleable__content\"><pre>passthrough</pre></div></div></div></div></div></div></div></div><div class=\"sk-item\"><div class=\"sk-estimator sk-toggleable\"><input class=\"sk-toggleable__control sk-hidden--visually\" id=\"sk-estimator-id-8\" type=\"checkbox\" ><label for=\"sk-estimator-id-8\" class=\"sk-toggleable__label sk-toggleable__label-arrow\">RandomForestClassifier</label><div class=\"sk-toggleable__content\"><pre>RandomForestClassifier(random_state=10)</pre></div></div></div></div></div></div></div>"
      ],
      "text/plain": [
       "Pipeline(steps=[('columntransformer',\n",
       "                 ColumnTransformer(remainder='passthrough',\n",
       "                                   transformers=[('onehotencoder',\n",
       "                                                  OneHotEncoder(categories=[array(['Aeronautical Engineering', 'Agricultural Engineering',\n",
       "       'Agriculture Engineering', 'Artificial Intelligence',\n",
       "       'Artificial Intelligence (AI) and Data Science',\n",
       "       'Artificial Intelligence and Data Science',\n",
       "       'Artificial Intelligence...\n",
       "       'LVJS', 'MI', 'MI-AI', 'MI-MH', 'ORPHAN', 'PWDOBCH', 'PWDOBCS',\n",
       "       'PWDOPENH', 'PWDOPENS', 'PWDRNT1S', 'PWDRNT2S', 'PWDRNT3S',\n",
       "       'PWDROBCH', 'PWDROBCS', 'PWDRSCH', 'PWDRSCS', 'PWDRVJS', 'PWDSCH',\n",
       "       'PWDSCS', 'TFWS'], dtype=object),\n",
       "                                                                            array(['JEE(Main)', 'MHT-CET', 'Merit'], dtype=object)]),\n",
       "                                                  ['branch', 'category',\n",
       "                                                   'seat_type',\n",
       "                                                   'score_type'])])),\n",
       "                ('randomforestclassifier',\n",
       "                 RandomForestClassifier(random_state=10))])"
      ]
     },
     "execution_count": 26,
     "metadata": {},
     "output_type": "execute_result"
    }
   ],
   "source": [
    "pipe.fit(x_train, y_train)"
   ]
  },
  {
   "cell_type": "code",
   "execution_count": 27,
   "id": "d1faf89c",
   "metadata": {},
   "outputs": [],
   "source": [
    "y_pred = pipe.predict(x_test)"
   ]
  },
  {
   "cell_type": "code",
   "execution_count": 28,
   "id": "336832d6",
   "metadata": {},
   "outputs": [
    {
     "name": "stdout",
     "output_type": "stream",
     "text": [
      "Accuracy: 0.2312041784464996\n"
     ]
    }
   ],
   "source": [
    "from sklearn.metrics import accuracy_score\n",
    "\n",
    "accuracy = accuracy_score(y_test, y_pred)\n",
    "print(\"Accuracy:\", accuracy)"
   ]
  },
  {
   "cell_type": "code",
   "execution_count": 29,
   "id": "9da96fac",
   "metadata": {},
   "outputs": [
    {
     "data": {
      "text/plain": [
       "array([\"Bansilal Ramnath Agarawal Charitable Trust's Vishwakarma Institute of Technology, Bibwewadi, Pune\"],\n",
       "      dtype=object)"
      ]
     },
     "execution_count": 29,
     "metadata": {},
     "output_type": "execute_result"
    }
   ],
   "source": [
    "pipe.predict(pd.DataFrame([[90.10, 'Chemical Engineering', 'OBC', 'GOBCS', 'MHT-CET']], columns=['percentile','branch','category','seat_type','score_type']))"
   ]
  },
  {
   "cell_type": "code",
   "execution_count": 32,
   "id": "5bb1379c",
   "metadata": {},
   "outputs": [
    {
     "ename": "MemoryError",
     "evalue": "",
     "output_type": "error",
     "traceback": [
      "\u001b[1;31m---------------------------------------------------------------------------\u001b[0m",
      "\u001b[1;31mMemoryError\u001b[0m                               Traceback (most recent call last)",
      "Cell \u001b[1;32mIn[32], line 19\u001b[0m\n\u001b[0;32m     16\u001b[0m     pickle\u001b[38;5;241m.\u001b[39mdump(part2, f2)\n\u001b[0;32m     18\u001b[0m \u001b[38;5;28;01mwith\u001b[39;00m \u001b[38;5;28mopen\u001b[39m(\u001b[38;5;124m'\u001b[39m\u001b[38;5;124mmodel_part3.pkl\u001b[39m\u001b[38;5;124m'\u001b[39m, \u001b[38;5;124m'\u001b[39m\u001b[38;5;124mwb\u001b[39m\u001b[38;5;124m'\u001b[39m) \u001b[38;5;28;01mas\u001b[39;00m f3:\n\u001b[1;32m---> 19\u001b[0m     \u001b[43mpickle\u001b[49m\u001b[38;5;241;43m.\u001b[39;49m\u001b[43mdump\u001b[49m\u001b[43m(\u001b[49m\u001b[43mpart3\u001b[49m\u001b[43m,\u001b[49m\u001b[43m \u001b[49m\u001b[43mf3\u001b[49m\u001b[43m)\u001b[49m\n",
      "\u001b[1;31mMemoryError\u001b[0m: "
     ]
    }
   ],
   "source": [
    "import pickle\n",
    "\n",
    "# Assuming 'pipe' is a large object you want to pickle\n",
    "# You can break it into smaller parts and pickle each part separately\n",
    "\n",
    "# Example: Splitting 'pipe' into smaller parts\n",
    "part1 = pipe[:len(pipe)//3]\n",
    "part2 = pipe[len(pipe)//3:2*len(pipe)//3]\n",
    "part3 = pipe[2*len(pipe)//3:]\n",
    "\n",
    "# Pickle each part separately\n",
    "with open('model_part1.pkl', 'wb') as f1:\n",
    "    pickle.dump(part1, f1)\n",
    "\n",
    "with open('model_part2.pkl', 'wb') as f2:\n",
    "    pickle.dump(part2, f2)\n",
    "\n",
    "with open('model_part3.pkl', 'wb') as f3:\n",
    "    pickle.dump(part3, f3)"
   ]
  }
 ],
 "metadata": {
  "kernelspec": {
   "display_name": "Python 3 (ipykernel)",
   "language": "python",
   "name": "python3"
  },
  "language_info": {
   "codemirror_mode": {
    "name": "ipython",
    "version": 3
   },
   "file_extension": ".py",
   "mimetype": "text/x-python",
   "name": "python",
   "nbconvert_exporter": "python",
   "pygments_lexer": "ipython3",
   "version": "3.10.13"
  }
 },
 "nbformat": 4,
 "nbformat_minor": 5
}
